{
 "cells": [
  {
   "cell_type": "code",
   "execution_count": null,
   "metadata": {
    "vscode": {
     "languageId": "plaintext"
    }
   },
   "outputs": [],
   "source": [
    "# notebooks/03_exploratory_analysis.ipynb\n",
    "import pandas as pd\n",
    "import matplotlib.pyplot as plt\n",
    "\n",
    "df = pd.read_csv(\"data/processed/cryptopunks_transfers_cleaned.csv\")\n",
    "\n",
    "# Calculate total sales volume\n",
    "total_volume = df[\"value\"].sum()\n",
    "print(f\"Total Sales Volume: {total_volume:.2f} ETH\")\n",
    "\n",
    "# Plot daily transaction volume\n",
    "df.set_index(\"timeStamp\", inplace=True)\n",
    "daily_volume = df[\"value\"].resample(\"D\").sum()\n",
    "daily_volume.plot(title=\"Daily Transaction Volume\")\n",
    "plt.xlabel(\"Date\")\n",
    "plt.ylabel(\"Volume (ETH)\")\n",
    "plt.show()"
   ]
  }
 ],
 "metadata": {
  "language_info": {
   "name": "python"
  }
 },
 "nbformat": 4,
 "nbformat_minor": 2
}
