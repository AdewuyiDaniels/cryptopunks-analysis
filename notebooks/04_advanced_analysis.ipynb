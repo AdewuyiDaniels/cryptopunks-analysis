{
 "cells": [
  {
   "cell_type": "code",
   "execution_count": null,
   "metadata": {
    "vscode": {
     "languageId": "plaintext"
    }
   },
   "outputs": [],
   "source": [
    "# notebooks/04_advanced_analysis.ipynb\n",
    "import pandas as pd\n",
    "from sklearn.cluster import KMeans\n",
    "import numpy as np\n",
    "\n",
    "df = pd.read_csv(\"data/processed/cryptopunks_transfers_cleaned.csv\")\n",
    "\n",
    "# Clustering by trading behavior\n",
    "X = df.groupby(\"tokenID\").agg({\"value\": [\"mean\", \"count\"]}).values\n",
    "kmeans = KMeans(n_clusters=3)  # 3 clusters\n",
    "df[\"cluster\"] = kmeans.fit_predict(X)\n",
    "\n",
    "# Anomaly detection (Z-score)\n",
    "df[\"zscore\"] = (df[\"value\"] - df[\"value\"].mean()) / df[\"value\"].std()\n",
    "anomalies = df[df[\"zscore\"].abs() > 3]  # Transactions with Z-score > 3\n",
    "\n",
    "print(\"Anomalies:\")\n",
    "print(anomalies)"
   ]
  }
 ],
 "metadata": {
  "language_info": {
   "name": "python"
  }
 },
 "nbformat": 4,
 "nbformat_minor": 2
}
