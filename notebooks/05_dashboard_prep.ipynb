{
 "cells": [
  {
   "cell_type": "code",
   "execution_count": null,
   "metadata": {
    "vscode": {
     "languageId": "plaintext"
    }
   },
   "outputs": [],
   "source": [
    "# notebooks/05_dashboard_prep.ipynb\n",
    "import pandas as pd\n",
    "\n",
    "df = pd.read_csv(\"data/processed/cryptopunks_transfers_cleaned.csv\")\n",
    "\n",
    "# Save top collectors data for the dashboard\n",
    "top_collectors = df[\"to\"].value_counts().head(10)\n",
    "top_collectors.to_csv(\"dashboard/assets/data/top_collectors.csv\")\n",
    "\n",
    "print(\"Dashboard data prepared.\")"
   ]
  }
 ],
 "metadata": {
  "language_info": {
   "name": "python"
  }
 },
 "nbformat": 4,
 "nbformat_minor": 2
}
