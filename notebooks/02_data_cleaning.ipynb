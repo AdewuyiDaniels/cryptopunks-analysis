{
 "cells": [
  {
   "cell_type": "code",
   "execution_count": null,
   "metadata": {
    "vscode": {
     "languageId": "plaintext"
    }
   },
   "outputs": [],
   "source": [
    "# notebooks/02_data_cleaning.ipynb\n",
    "import pandas as pd\n",
    "import json\n",
    "\n",
    "with open(\"data/raw/cryptopunks_transfers.json\", \"r\") as f:\n",
    "    data = json.load(f)\n",
    "\n",
    "df = pd.DataFrame(data[\"result\"])\n",
    "df[\"value\"] = df[\"value\"].astype(float) / 1e18  # Convert value from wei to ETH\n",
    "df[\"timeStamp\"] = pd.to_datetime(df[\"timeStamp\"], unit=\"s\")  # Convert timestamp to datetime\n",
    "\n",
    "os.makedirs(\"data/processed\", exist_ok=True)\n",
    "df.to_csv(\"data/processed/cryptopunks_transfers_cleaned.csv\", index=False)\n",
    "\n",
    "print(\"Data saved to data/processed/cryptopunks_transfers_cleaned.csv\")"
   ]
  }
 ],
 "metadata": {
  "language_info": {
   "name": "python"
  }
 },
 "nbformat": 4,
 "nbformat_minor": 2
}
