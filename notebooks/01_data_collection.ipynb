{
 "cells": [
  {
   "cell_type": "code",
   "execution_count": null,
   "metadata": {
    "vscode": {
     "languageId": "plaintext"
    }
   },
   "outputs": [],
   "source": [
    "# notebooks/01_data_collection.ipynb\n",
    "import requests\n",
    "import json\n",
    "import os\n",
    "\n",
    "API_KEY = \"YourApiKeyToken\"\n",
    "CONTRACT_ADDRESS = \"0xb47e3cd837dDF8e4c57F05d70Ab865de6e193BBB\"\n",
    "\n",
    "url = f\"https://api.etherscan.io/api?module=account&action=tokentx&contractaddress={CONTRACT_ADDRESS}&startblock=0&endblock=99999999&sort=asc&apikey={API_KEY}\"\n",
    "response = requests.get(url)\n",
    "data = response.json()\n",
    "\n",
    "os.makedirs(\"data/raw\", exist_ok=True)\n",
    "with open(\"data/raw/cryptopunks_transfers.json\", \"w\") as f:\n",
    "    json.dump(data, f)\n",
    "\n",
    "print(\"Data saved to data/raw/cryptopunks_transfers.json\")"
   ]
  }
 ],
 "metadata": {
  "language_info": {
   "name": "python"
  }
 },
 "nbformat": 4,
 "nbformat_minor": 2
}
